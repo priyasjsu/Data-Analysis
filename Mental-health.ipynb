{
 "cells": [
  {
   "cell_type": "markdown",
   "id": "243d3cac",
   "metadata": {},
   "source": [
    "# Impact Of Mental Health Disorders In The Workplace"
   ]
  },
  {
   "cell_type": "markdown",
   "id": "df1e21fb",
   "metadata": {},
   "source": [
    "### Mental health of employees is an important determinant of their overall health. As per CDC, nearly 1 in 5 US adults (18 or older) reported any mental illness in the year 2016. Employee's poor mental health also has negative impact on the employers and businesses through increased absenteeism; causing poor productivity and low profits. This analysis would determine how commonly reported mental health issues affect employee of different ages, working with tech and non-tech companies.\n",
    "### Data - https://www.kaggle.com/osmi/mental-health-in-tech-survey"
   ]
  },
  {
   "cell_type": "code",
   "execution_count": 1,
   "id": "50099c89",
   "metadata": {},
   "outputs": [
    {
     "data": {
      "text/html": [
       "<div>\n",
       "<style scoped>\n",
       "    .dataframe tbody tr th:only-of-type {\n",
       "        vertical-align: middle;\n",
       "    }\n",
       "\n",
       "    .dataframe tbody tr th {\n",
       "        vertical-align: top;\n",
       "    }\n",
       "\n",
       "    .dataframe thead th {\n",
       "        text-align: right;\n",
       "    }\n",
       "</style>\n",
       "<table border=\"1\" class=\"dataframe\">\n",
       "  <thead>\n",
       "    <tr style=\"text-align: right;\">\n",
       "      <th></th>\n",
       "      <th>Age</th>\n",
       "      <th>Gender</th>\n",
       "      <th>self_employed</th>\n",
       "      <th>work_interfere</th>\n",
       "      <th>remote_work</th>\n",
       "      <th>tech_company</th>\n",
       "    </tr>\n",
       "  </thead>\n",
       "  <tbody>\n",
       "    <tr>\n",
       "      <th>0</th>\n",
       "      <td>37</td>\n",
       "      <td>Female</td>\n",
       "      <td>NaN</td>\n",
       "      <td>Often</td>\n",
       "      <td>No</td>\n",
       "      <td>Yes</td>\n",
       "    </tr>\n",
       "    <tr>\n",
       "      <th>1</th>\n",
       "      <td>44</td>\n",
       "      <td>M</td>\n",
       "      <td>NaN</td>\n",
       "      <td>Rarely</td>\n",
       "      <td>No</td>\n",
       "      <td>No</td>\n",
       "    </tr>\n",
       "    <tr>\n",
       "      <th>2</th>\n",
       "      <td>32</td>\n",
       "      <td>Male</td>\n",
       "      <td>NaN</td>\n",
       "      <td>Rarely</td>\n",
       "      <td>No</td>\n",
       "      <td>Yes</td>\n",
       "    </tr>\n",
       "    <tr>\n",
       "      <th>3</th>\n",
       "      <td>31</td>\n",
       "      <td>Male</td>\n",
       "      <td>NaN</td>\n",
       "      <td>Often</td>\n",
       "      <td>No</td>\n",
       "      <td>Yes</td>\n",
       "    </tr>\n",
       "    <tr>\n",
       "      <th>4</th>\n",
       "      <td>31</td>\n",
       "      <td>Male</td>\n",
       "      <td>NaN</td>\n",
       "      <td>Never</td>\n",
       "      <td>Yes</td>\n",
       "      <td>Yes</td>\n",
       "    </tr>\n",
       "    <tr>\n",
       "      <th>5</th>\n",
       "      <td>33</td>\n",
       "      <td>Male</td>\n",
       "      <td>NaN</td>\n",
       "      <td>Sometimes</td>\n",
       "      <td>No</td>\n",
       "      <td>Yes</td>\n",
       "    </tr>\n",
       "    <tr>\n",
       "      <th>6</th>\n",
       "      <td>35</td>\n",
       "      <td>Female</td>\n",
       "      <td>NaN</td>\n",
       "      <td>Sometimes</td>\n",
       "      <td>Yes</td>\n",
       "      <td>Yes</td>\n",
       "    </tr>\n",
       "    <tr>\n",
       "      <th>7</th>\n",
       "      <td>39</td>\n",
       "      <td>M</td>\n",
       "      <td>NaN</td>\n",
       "      <td>Never</td>\n",
       "      <td>Yes</td>\n",
       "      <td>Yes</td>\n",
       "    </tr>\n",
       "    <tr>\n",
       "      <th>8</th>\n",
       "      <td>42</td>\n",
       "      <td>Female</td>\n",
       "      <td>NaN</td>\n",
       "      <td>Sometimes</td>\n",
       "      <td>No</td>\n",
       "      <td>Yes</td>\n",
       "    </tr>\n",
       "    <tr>\n",
       "      <th>9</th>\n",
       "      <td>23</td>\n",
       "      <td>Male</td>\n",
       "      <td>NaN</td>\n",
       "      <td>Never</td>\n",
       "      <td>No</td>\n",
       "      <td>Yes</td>\n",
       "    </tr>\n",
       "  </tbody>\n",
       "</table>\n",
       "</div>"
      ],
      "text/plain": [
       "   Age  Gender self_employed work_interfere remote_work tech_company\n",
       "0   37  Female           NaN          Often          No          Yes\n",
       "1   44       M           NaN         Rarely          No           No\n",
       "2   32    Male           NaN         Rarely          No          Yes\n",
       "3   31    Male           NaN          Often          No          Yes\n",
       "4   31    Male           NaN          Never         Yes          Yes\n",
       "5   33    Male           NaN      Sometimes          No          Yes\n",
       "6   35  Female           NaN      Sometimes         Yes          Yes\n",
       "7   39       M           NaN          Never         Yes          Yes\n",
       "8   42  Female           NaN      Sometimes          No          Yes\n",
       "9   23    Male           NaN          Never          No          Yes"
      ]
     },
     "execution_count": 1,
     "metadata": {},
     "output_type": "execute_result"
    }
   ],
   "source": [
    "import pandas as pd\n",
    "\n",
    "pd.set_option('precision', 2)  # format for floating-point values\n",
    "m_health = pd.read_csv('Mental-health.csv')\n",
    "m_health = m_health[['Age', 'Gender', 'self_employed', 'work_interfere', 'remote_work', 'tech_company']]\n",
    "df = pd.DataFrame(m_health)\n",
    "\n",
    "df.head(10)"
   ]
  },
  {
   "cell_type": "code",
   "execution_count": 2,
   "id": "a125c28a",
   "metadata": {},
   "outputs": [
    {
     "data": {
      "text/html": [
       "<div>\n",
       "<style scoped>\n",
       "    .dataframe tbody tr th:only-of-type {\n",
       "        vertical-align: middle;\n",
       "    }\n",
       "\n",
       "    .dataframe tbody tr th {\n",
       "        vertical-align: top;\n",
       "    }\n",
       "\n",
       "    .dataframe thead th {\n",
       "        text-align: right;\n",
       "    }\n",
       "</style>\n",
       "<table border=\"1\" class=\"dataframe\">\n",
       "  <thead>\n",
       "    <tr style=\"text-align: right;\">\n",
       "      <th></th>\n",
       "      <th>Age</th>\n",
       "      <th>Gender</th>\n",
       "      <th>self_employed</th>\n",
       "      <th>work_interfere</th>\n",
       "      <th>remote_work</th>\n",
       "      <th>tech_company</th>\n",
       "    </tr>\n",
       "  </thead>\n",
       "  <tbody>\n",
       "    <tr>\n",
       "      <th>1249</th>\n",
       "      <td>30</td>\n",
       "      <td>M</td>\n",
       "      <td>No</td>\n",
       "      <td>Sometimes</td>\n",
       "      <td>No</td>\n",
       "      <td>Yes</td>\n",
       "    </tr>\n",
       "    <tr>\n",
       "      <th>1250</th>\n",
       "      <td>30</td>\n",
       "      <td>Male</td>\n",
       "      <td>Yes</td>\n",
       "      <td>Often</td>\n",
       "      <td>No</td>\n",
       "      <td>Yes</td>\n",
       "    </tr>\n",
       "    <tr>\n",
       "      <th>1251</th>\n",
       "      <td>36</td>\n",
       "      <td>Male</td>\n",
       "      <td>No</td>\n",
       "      <td>Often</td>\n",
       "      <td>No</td>\n",
       "      <td>No</td>\n",
       "    </tr>\n",
       "    <tr>\n",
       "      <th>1252</th>\n",
       "      <td>29</td>\n",
       "      <td>male</td>\n",
       "      <td>No</td>\n",
       "      <td>Sometimes</td>\n",
       "      <td>Yes</td>\n",
       "      <td>Yes</td>\n",
       "    </tr>\n",
       "    <tr>\n",
       "      <th>1253</th>\n",
       "      <td>36</td>\n",
       "      <td>Male</td>\n",
       "      <td>No</td>\n",
       "      <td>Rarely</td>\n",
       "      <td>No</td>\n",
       "      <td>No</td>\n",
       "    </tr>\n",
       "    <tr>\n",
       "      <th>1254</th>\n",
       "      <td>26</td>\n",
       "      <td>male</td>\n",
       "      <td>No</td>\n",
       "      <td>NaN</td>\n",
       "      <td>No</td>\n",
       "      <td>Yes</td>\n",
       "    </tr>\n",
       "    <tr>\n",
       "      <th>1255</th>\n",
       "      <td>32</td>\n",
       "      <td>Male</td>\n",
       "      <td>No</td>\n",
       "      <td>Often</td>\n",
       "      <td>Yes</td>\n",
       "      <td>Yes</td>\n",
       "    </tr>\n",
       "    <tr>\n",
       "      <th>1256</th>\n",
       "      <td>34</td>\n",
       "      <td>male</td>\n",
       "      <td>No</td>\n",
       "      <td>Sometimes</td>\n",
       "      <td>No</td>\n",
       "      <td>Yes</td>\n",
       "    </tr>\n",
       "    <tr>\n",
       "      <th>1257</th>\n",
       "      <td>46</td>\n",
       "      <td>f</td>\n",
       "      <td>No</td>\n",
       "      <td>NaN</td>\n",
       "      <td>Yes</td>\n",
       "      <td>Yes</td>\n",
       "    </tr>\n",
       "    <tr>\n",
       "      <th>1258</th>\n",
       "      <td>25</td>\n",
       "      <td>Male</td>\n",
       "      <td>No</td>\n",
       "      <td>Sometimes</td>\n",
       "      <td>No</td>\n",
       "      <td>No</td>\n",
       "    </tr>\n",
       "  </tbody>\n",
       "</table>\n",
       "</div>"
      ],
      "text/plain": [
       "      Age Gender self_employed work_interfere remote_work tech_company\n",
       "1249   30      M            No      Sometimes          No          Yes\n",
       "1250   30   Male           Yes          Often          No          Yes\n",
       "1251   36   Male            No          Often          No           No\n",
       "1252   29   male            No      Sometimes         Yes          Yes\n",
       "1253   36   Male            No         Rarely          No           No\n",
       "1254   26   male            No            NaN          No          Yes\n",
       "1255   32   Male            No          Often         Yes          Yes\n",
       "1256   34   male            No      Sometimes          No          Yes\n",
       "1257   46      f            No            NaN         Yes          Yes\n",
       "1258   25   Male            No      Sometimes          No           No"
      ]
     },
     "execution_count": 2,
     "metadata": {},
     "output_type": "execute_result"
    }
   ],
   "source": [
    "df.tail(10)"
   ]
  },
  {
   "cell_type": "markdown",
   "id": "62c6dc52",
   "metadata": {},
   "source": [
    "### For the analysis, I am using the 'Age', 'work_interfere', and 'tech_company' data. First replacing any missing or bad data with suitable values i.e. mean or mode, and also checking the standard deviation for age."
   ]
  },
  {
   "cell_type": "markdown",
   "id": "81bf2eb4",
   "metadata": {},
   "source": [
    "## Check missing Age data"
   ]
  },
  {
   "cell_type": "code",
   "execution_count": 3,
   "id": "cf9a2fff",
   "metadata": {},
   "outputs": [
    {
     "name": "stdout",
     "output_type": "stream",
     "text": [
      "Age count given in data file: 1259\n",
      "Expected data in data file: 1253\n",
      "Is All age data good: No\n"
     ]
    }
   ],
   "source": [
    "import math\n",
    "import statistics as stat\n",
    "\n",
    "# Checking missing or bad data as we are considering employee data\n",
    "# so, here I am considering below or above 90 age is not expected.\n",
    "\n",
    "age_count = len(m_health['Age'])\n",
    "good_age = [age for age in m_health.Age if not math.isnan(age) and not(age < 15 or age > 90)]\n",
    "good_age_count = len(good_age)\n",
    "age_data_good = 'Yes' if age_count == good_age_count else 'No'\n",
    "\n",
    "print('Age count given in data file:', age_count)\n",
    "print('Expected data in data file:', good_age_count)\n",
    "print('Is All age data good:', age_data_good)\n"
   ]
  },
  {
   "cell_type": "markdown",
   "id": "26ad615c",
   "metadata": {},
   "source": [
    "## Age descriptive statistics"
   ]
  },
  {
   "cell_type": "code",
   "execution_count": 4,
   "id": "31931d5f",
   "metadata": {
    "scrolled": true
   },
   "outputs": [
    {
     "data": {
      "text/plain": [
       "count    1259.00\n",
       "mean       30.81\n",
       "std        50.82\n",
       "min     -1726.00\n",
       "25%        27.00\n",
       "50%        31.00\n",
       "75%        36.00\n",
       "max       329.00\n",
       "Name: Age, dtype: float64"
      ]
     },
     "execution_count": 4,
     "metadata": {},
     "output_type": "execute_result"
    }
   ],
   "source": [
    "df['Age'].describe()"
   ]
  },
  {
   "cell_type": "markdown",
   "id": "97bd04e9",
   "metadata": {},
   "source": [
    "## Measure Central tendency  of Age "
   ]
  },
  {
   "cell_type": "markdown",
   "id": "ca6fbd6f",
   "metadata": {},
   "source": [
    "### Use the statistics module for mean"
   ]
  },
  {
   "cell_type": "code",
   "execution_count": 5,
   "id": "1ed76280",
   "metadata": {},
   "outputs": [
    {
     "name": "stdout",
     "output_type": "stream",
     "text": [
      "stat.mean 30.8109610802224\n"
     ]
    }
   ],
   "source": [
    "\n",
    "print('stat.mean', stat.mean(df['Age']))"
   ]
  },
  {
   "cell_type": "markdown",
   "id": "31a5fa63",
   "metadata": {},
   "source": [
    "### Compute of Age mean using definition"
   ]
  },
  {
   "cell_type": "code",
   "execution_count": 6,
   "id": "3da0b2ce",
   "metadata": {},
   "outputs": [
    {
     "name": "stdout",
     "output_type": "stream",
     "text": [
      "Age mean 30.8109610802224\n"
     ]
    }
   ],
   "source": [
    "import numpy as np\n",
    "\n",
    "age_count = len(df['Age'])\n",
    "\n",
    "# Calculate mean\n",
    "mean = df['Age'].sum()/age_count\n",
    "print('Age mean' , mean)"
   ]
  },
  {
   "cell_type": "markdown",
   "id": "1402d0eb",
   "metadata": {},
   "source": [
    "### Hence, the mean for 'Age' calculation is similar in both ways"
   ]
  },
  {
   "cell_type": "markdown",
   "id": "8439b29d",
   "metadata": {},
   "source": [
    "## Draw box chart to represent outliers and unfiltered data"
   ]
  },
  {
   "cell_type": "code",
   "execution_count": 7,
   "id": "7e4138fa",
   "metadata": {},
   "outputs": [
    {
     "data": {
      "text/plain": [
       "<AxesSubplot:xlabel='Age'>"
      ]
     },
     "execution_count": 7,
     "metadata": {},
     "output_type": "execute_result"
    },
    {
     "data": {
      "image/png": "[encoded data removed]",
      "text/plain": [
       "<Figure size 2160x288 with 1 Axes>"
      ]
     },
     "metadata": {
      "needs_background": "light"
     },
     "output_type": "display_data"
    }
   ],
   "source": [
    "%matplotlib inline\n",
    "import matplotlib.pyplot as plt\n",
    "import seaborn as sns\n",
    "plt.figure(figsize=(30, 4))\n",
    "plt.rcParams['axes.labelsize'] = 20\n",
    "plt.xticks(fontsize=16)\n",
    "\n",
    "sns.boxplot(x=\"Age\", data=df) \n"
   ]
  },
  {
   "cell_type": "markdown",
   "id": "e5a8570b",
   "metadata": {},
   "source": [
    "### It is necessary to clean up age data which has unexpected data, for instance, employees under 15 or older than 90. A mean value should be substituted in place of the bad data."
   ]
  },
  {
   "cell_type": "code",
   "execution_count": 8,
   "id": "d20856a3",
   "metadata": {},
   "outputs": [],
   "source": [
    "\n",
    "age = df['Age']\n",
    "\n",
    "# data wrangling\n",
    "mean_age = stat.mean(df['Age'])  # get the mean of age\n",
    "df.loc[age<15, 'Age'] = mean_age  # put the mean value in place of unexpected value\n",
    "df.loc[age>100, 'Age'] = mean_age"
   ]
  },
  {
   "cell_type": "markdown",
   "id": "277d8e97",
   "metadata": {},
   "source": [
    "### Age descriptive statistics after data filter"
   ]
  },
  {
   "cell_type": "code",
   "execution_count": 9,
   "id": "ee8ea2d3",
   "metadata": {},
   "outputs": [
    {
     "data": {
      "text/plain": [
       "count    1259.00\n",
       "mean       32.08\n",
       "std         7.27\n",
       "min        18.00\n",
       "25%        27.00\n",
       "50%        31.00\n",
       "75%        36.00\n",
       "max        72.00\n",
       "Name: Age, dtype: float64"
      ]
     },
     "execution_count": 9,
     "metadata": {},
     "output_type": "execute_result"
    }
   ],
   "source": [
    "df['Age'].describe()"
   ]
  },
  {
   "cell_type": "markdown",
   "id": "745b4456",
   "metadata": {},
   "source": [
    "### Compute Variability IQR and Standard deviation(Compute by defination and statistics module)"
   ]
  },
  {
   "cell_type": "code",
   "execution_count": 10,
   "id": "65d3acc3",
   "metadata": {},
   "outputs": [
    {
     "name": "stdout",
     "output_type": "stream",
     "text": [
      "IQR 9.0\n",
      "sum sqrs of ages = 68481.58\n",
      "variance of ages = 54.39\n",
      " std dev of ages = 7.38\n",
      "std dev using module    = 7.27\n"
     ]
    }
   ],
   "source": [
    "    ages    = df['Age']\n",
    "    count   = len(ages)\n",
    "    min_age = min(ages)\n",
    "    max_age = max(ages)\n",
    "    \n",
    "    q1  = np.percentile(ages, 25)\n",
    "    q2  = np.percentile(ages, 50)\n",
    "    q3  = np.percentile(ages, 75)\n",
    "    iqr = q3 - q1\n",
    "    \n",
    "    print('IQR', iqr)\n",
    "    \n",
    "    sum_of_squares = 0\n",
    "\n",
    "    for age in ages:\n",
    "        sum_of_squares += (age - mean_age)**2\n",
    "    \n",
    "variance = sum_of_squares/len(ages)\n",
    "stdev    = math.sqrt(variance)\n",
    "\n",
    "print(f'sum sqrs of ages = {sum_of_squares:.2f}')\n",
    "print(f'variance of ages = {variance:.2f}')\n",
    "print(f' std dev of ages = {stdev:.2f}')\n",
    "\n",
    "    sd = stat.pstdev(ages)\n",
    "    \n",
    "print(f'std dev using module    = {sd:.2f}')"
   ]
  },
  {
   "cell_type": "markdown",
   "id": "abbdc3e5",
   "metadata": {},
   "source": [
    "### Calculation of standard deviation we got how much age data is spread out from mean value"
   ]
  },
  {
   "cell_type": "markdown",
   "id": "b405b24e",
   "metadata": {},
   "source": [
    "### Above IQR calculation represent numerical distant from the rest the age data"
   ]
  },
  {
   "cell_type": "markdown",
   "id": "3db1bb7c",
   "metadata": {},
   "source": [
    "## Draw box chart to represent outliers and data after filter"
   ]
  },
  {
   "cell_type": "code",
   "execution_count": 11,
   "id": "0f792960",
   "metadata": {},
   "outputs": [
    {
     "data": {
      "text/plain": [
       "<AxesSubplot:xlabel='Age'>"
      ]
     },
     "execution_count": 11,
     "metadata": {},
     "output_type": "execute_result"
    },
    {
     "data": {
      "image/png": "[encoded data removed]",
      "text/plain": [
       "<Figure size 720x288 with 1 Axes>"
      ]
     },
     "metadata": {
      "needs_background": "light"
     },
     "output_type": "display_data"
    }
   ],
   "source": [
    "\n",
    "plt.figure(figsize=(10, 4))\n",
    "sns.boxplot(x=\"Age\", data=df) "
   ]
  },
  {
   "cell_type": "markdown",
   "id": "c428e731",
   "metadata": {},
   "source": [
    "### As we can see in above chart that unexpected or bad values has been removed "
   ]
  },
  {
   "cell_type": "markdown",
   "id": "d1ba4699",
   "metadata": {},
   "source": [
    "## Work Interference due to mental health issue data"
   ]
  },
  {
   "cell_type": "code",
   "execution_count": 12,
   "id": "4ac8269b",
   "metadata": {},
   "outputs": [
    {
     "name": "stdout",
     "output_type": "stream",
     "text": [
      "{nan, 'Often', 'Rarely', 'Sometimes', 'Never'}\n"
     ]
    }
   ],
   "source": [
    "w_interfere = m_health['work_interfere']\n",
    "print(set(w_interfere))  # get unique value and validate the data"
   ]
  },
  {
   "cell_type": "markdown",
   "id": "fd433a6e",
   "metadata": {},
   "source": [
    "### In the example above for unique value, there is a 'nan' value that is not valid, therefore for replacement calculating mode value"
   ]
  },
  {
   "cell_type": "markdown",
   "id": "9e4465fd",
   "metadata": {},
   "source": [
    "## Central tendency(mode) of work interfere "
   ]
  },
  {
   "cell_type": "code",
   "execution_count": 13,
   "id": "981141dc",
   "metadata": {},
   "outputs": [
    {
     "name": "stdout",
     "output_type": "stream",
     "text": [
      "mode of work interfere: Sometimes\n"
     ]
    }
   ],
   "source": [
    "import statistics as stat\n",
    "most_occour_val = stat.mode(w_interfere)  # get most frequently occur value in work interfere column\n",
    "print('mode of work interfere:', most_occour_val)"
   ]
  },
  {
   "cell_type": "markdown",
   "id": "f45ffca5",
   "metadata": {},
   "source": [
    "## Data wrangling (Fill the mode value in place of \"nan\" to make data useful)"
   ]
  },
  {
   "cell_type": "code",
   "execution_count": 14,
   "id": "46bf25bd",
   "metadata": {},
   "outputs": [],
   "source": [
    "df['work_interfere'] = w_interfere.replace(np.nan, most_occour_val) \n"
   ]
  },
  {
   "cell_type": "markdown",
   "id": "4c25829f",
   "metadata": {},
   "source": [
    "## Analysis what age people think that mental health problem impacted their work"
   ]
  },
  {
   "cell_type": "markdown",
   "id": "62a18d11",
   "metadata": {},
   "source": [
    "### Divide the data between three age group less than 30, 30 to 60 and greater than 60"
   ]
  },
  {
   "cell_type": "code",
   "execution_count": 15,
   "id": "56ad48f4",
   "metadata": {},
   "outputs": [],
   "source": [
    "# sns.catplot(x= \"work_interfere\", y=\"Age\", data=df)\n",
    "\n",
    "# create an Empty DataFrame object\n",
    "less_than_thirty_list = {'Age':[], 'work_interfere':[]}\n",
    "less_than_sixty_list = {'Age':[], 'work_interfere':[]}\n",
    "greater_than_sixty_list = {'Age':[], 'work_interfere':[]}\n",
    "\n",
    "less30_Never_Count = 0\n",
    "less30_Sometime_Count = 0\n",
    "less30_Often_Count = 0\n",
    "less30_Rarely_Count = 0\n",
    "\n",
    "less60_Never_Count = 0\n",
    "less60_Sometime_Count = 0\n",
    "less60_Often_Count = 0\n",
    "less60_Rarely_Count = 0\n",
    "\n",
    "up60_Never_Count = 0\n",
    "up60_Sometime_Count = 0\n",
    "up60_Often_Count = 0\n",
    "up60_Rarely_Count = 0\n",
    "\n",
    "for (index, row) in df.iterrows():\n",
    "    if row['Age'] < 30:\n",
    "        if row['work_interfere'] == 'Never':\n",
    "            less30_Never_Count += 1\n",
    "        elif row['work_interfere'] == 'Often':\n",
    "            less30_Often_Count += 1\n",
    "        elif row['work_interfere'] == 'Rarely':\n",
    "            less30_Rarely_Count += 1\n",
    "        else:\n",
    "            less30_Sometime_Count += 1\n",
    "    elif row['Age'] < 60:\n",
    "\n",
    "        if row['work_interfere'] == 'Never':\n",
    "            less60_Never_Count += 1\n",
    "        elif row['work_interfere'] == 'Often':\n",
    "            less60_Often_Count += 1\n",
    "        elif row['work_interfere'] == 'Rarely':\n",
    "            less60_Rarely_Count += 1\n",
    "        else:\n",
    "            less60_Sometime_Count += 1\n",
    "    else:\n",
    "        if row['work_interfere'] == 'Never':\n",
    "            up60_Never_Count += 1\n",
    "        elif row['work_interfere'] == 'Often':\n",
    "            up60_Often_Count += 1\n",
    "        elif row['work_interfere'] == 'Rarely':\n",
    "            up60_Rarely_Count += 1\n",
    "        else:\n",
    "            up60_Sometime_Count += 1\n",
    "            \n",
    "w_interfere = df['work_interfere'] \n",
    "w_set = set(w_interfere) # get the unique values of work interfere column\n",
    "w_interfere_options = list(set(w_interfere)) # convert in list to plot in chart        \n"
   ]
  },
  {
   "cell_type": "markdown",
   "id": "0c3fb18f",
   "metadata": {},
   "source": [
    "### Analysis below 30 Age employee "
   ]
  },
  {
   "cell_type": "code",
   "execution_count": 16,
   "id": "57f85af2",
   "metadata": {},
   "outputs": [
    {
     "data": {
      "text/plain": [
       "<AxesSubplot:>"
      ]
     },
     "execution_count": 16,
     "metadata": {},
     "output_type": "execute_result"
    },
    {
     "data": {
      "image/png": "[encoded data removed]",
      "text/plain": [
       "<Figure size 720x288 with 1 Axes>"
      ]
     },
     "metadata": {
      "needs_background": "light"
     },
     "output_type": "display_data"
    }
   ],
   "source": [
    "plt.figure(figsize=(10, 4))\n",
    "sns.barplot(y=w_interfere_options, x=[less30_Never_Count, less30_Sometime_Count, less30_Often_Count, less30_Rarely_Count])"
   ]
  },
  {
   "cell_type": "markdown",
   "id": "22febbe9",
   "metadata": {},
   "source": [
    "### As we can see in above chart that most of the below 30 employee think their work 'Sometimes' impacted due to mental health problem"
   ]
  },
  {
   "cell_type": "markdown",
   "id": "6caa15d2",
   "metadata": {},
   "source": [
    "### Analysis greater than 30 and less than 60 Age employee "
   ]
  },
  {
   "cell_type": "code",
   "execution_count": 17,
   "id": "f0a8ff43",
   "metadata": {},
   "outputs": [
    {
     "data": {
      "text/plain": [
       "<AxesSubplot:>"
      ]
     },
     "execution_count": 17,
     "metadata": {},
     "output_type": "execute_result"
    },
    {
     "data": {
      "image/png": "[encoded data removed]",
      "text/plain": [
       "<Figure size 720x288 with 1 Axes>"
      ]
     },
     "metadata": {
      "needs_background": "light"
     },
     "output_type": "display_data"
    }
   ],
   "source": [
    "plt.figure(figsize=(10, 4))\n",
    "sns.barplot(y=w_interfere_options, x=[less60_Never_Count, less60_Sometime_Count, less60_Often_Count, less60_Rarely_Count])"
   ]
  },
  {
   "cell_type": "markdown",
   "id": "6d84b731",
   "metadata": {},
   "source": [
    "### As we can see in above chart that most of the above 30 and less than 60 age employee think their work 'Sometimes' impacted due to mental health problem"
   ]
  },
  {
   "cell_type": "markdown",
   "id": "bf277e46",
   "metadata": {},
   "source": [
    "### Analysis greater than 60 Age employee "
   ]
  },
  {
   "cell_type": "code",
   "execution_count": 18,
   "id": "5fac73e9",
   "metadata": {},
   "outputs": [
    {
     "data": {
      "text/plain": [
       "<AxesSubplot:>"
      ]
     },
     "execution_count": 18,
     "metadata": {},
     "output_type": "execute_result"
    },
    {
     "data": {
      "image/png": "[encoded data removed]",
      "text/plain": [
       "<Figure size 720x288 with 1 Axes>"
      ]
     },
     "metadata": {
      "needs_background": "light"
     },
     "output_type": "display_data"
    }
   ],
   "source": [
    "plt.figure(figsize=(10, 4))\n",
    "sns.barplot(y=w_interfere_options, x=[up60_Never_Count, up60_Sometime_Count, up60_Often_Count, up60_Rarely_Count])"
   ]
  },
  {
   "cell_type": "markdown",
   "id": "50610f69",
   "metadata": {},
   "source": [
    "### But As we can see in above chart that most of the above 60 age employee think their work 'Sometimes' impacted due to mental health problem or even no one say 'Rarely'."
   ]
  },
  {
   "cell_type": "markdown",
   "id": "a28066b4",
   "metadata": {},
   "source": [
    "## Analysis over work interference(low productivity on work) due to mental health problem for tech employees"
   ]
  },
  {
   "cell_type": "code",
   "execution_count": 19,
   "id": "77908c3a",
   "metadata": {},
   "outputs": [
    {
     "data": {
      "text/plain": [
       "<AxesSubplot:>"
      ]
     },
     "execution_count": 19,
     "metadata": {},
     "output_type": "execute_result"
    },
    {
     "data": {
      "image/png": "[encoded data removed]",
      "text/plain": [
       "<Figure size 720x288 with 1 Axes>"
      ]
     },
     "metadata": {
      "needs_background": "light"
     },
     "output_type": "display_data"
    }
   ],
   "source": [
    "\n",
    "Never_Count = 0\n",
    "Sometime_Count = 0\n",
    "Often_Count = 0\n",
    "Rarely_Count = 0\n",
    "\n",
    "Non_tect_Never = 0\n",
    "Non_tech_Sometime = 0\n",
    "Non_tech_Often = 0\n",
    "Non_tech_Rarely = 0\n",
    "\n",
    "# differentiating tech company and non-tech company data\n",
    "for index, row in df.iterrows():\n",
    "    if row['tech_company'] == 'Yes':\n",
    "        if row['work_interfere'] == 'Never':\n",
    "            Never_Count += 1\n",
    "        elif row['work_interfere'] == 'Often':\n",
    "            Often_Count += 1\n",
    "        elif row['work_interfere'] == 'Rarely':\n",
    "            Rarely_Count += 1\n",
    "        else:\n",
    "            Sometime_Count += 1\n",
    "    elif row['tech_company'] == 'No':\n",
    "        if row['work_interfere'] == 'Never':\n",
    "            Non_tect_Never += 1\n",
    "        elif row['work_interfere'] == 'Often':\n",
    "            Non_tech_Often += 1\n",
    "        elif row['work_interfere'] == 'Rarely':\n",
    "            Non_tech_Rarely += 1\n",
    "        else:\n",
    "            Non_tech_Sometime += 1\n",
    "\n",
    "plt.figure(figsize=(10, 4))\n",
    "\n",
    "text_string = \"Total Tech Employees = {m}.\".format(m=(Never_Count+ Sometime_Count+ Often_Count+ Rarely_Count))\n",
    "#adding text inside the plot\n",
    "plt.text(1.7, 550, text_string, fontsize = 15)\n",
    "\n",
    "sns.barplot(x=w_interfere_options, y=[Never_Count, Sometime_Count, Often_Count, Rarely_Count])"
   ]
  },
  {
   "cell_type": "markdown",
   "id": "648505b1",
   "metadata": {},
   "source": [
    "## Analysis over work interference(low productivity on work) due to mental health problem for non tech employees"
   ]
  },
  {
   "cell_type": "code",
   "execution_count": 20,
   "id": "df490e45",
   "metadata": {},
   "outputs": [
    {
     "data": {
      "text/plain": [
       "<AxesSubplot:>"
      ]
     },
     "execution_count": 20,
     "metadata": {},
     "output_type": "execute_result"
    },
    {
     "data": {
      "image/png": "[encoded data removed]",
      "text/plain": [
       "<Figure size 720x288 with 1 Axes>"
      ]
     },
     "metadata": {
      "needs_background": "light"
     },
     "output_type": "display_data"
    }
   ],
   "source": [
    "plt.figure(figsize=(10, 4))\n",
    "text_string = \"Total Non Tech Employees = {m}.\".format(m=(Non_tect_Never+Non_tech_Sometime+Non_tech_Often+Non_tech_Rarely))\n",
    "#adding text inside the plot\n",
    "plt.text(1.7, 120, text_string, fontsize = 15)\n",
    "\n",
    "sns.barplot(x=w_interfere_options, y=[Non_tect_Never, Non_tech_Sometime, Non_tech_Often, Non_tech_Rarely])"
   ]
  },
  {
   "cell_type": "markdown",
   "id": "6e9d86e9",
   "metadata": {},
   "source": [
    "### As we can see in above non tech and tech bar chart their work \"Often\" impacted due to mental health problem but in there is 58% tech employee think their work impacted where 52% non tech employee think their work impacted due to mental health problem"
   ]
  },
  {
   "cell_type": "markdown",
   "id": "f0ba1a62",
   "metadata": {},
   "source": [
    "### In conclusion we can say that irrespective of tech or non-tech people think their work sometimes impacted due to mental health problem and employee and employer should consider the this as serious problem."
   ]
  },
  {
   "cell_type": "code",
   "execution_count": null,
   "id": "6c686507",
   "metadata": {},
   "outputs": [],
   "source": []
  }
 ],
 "metadata": {
  "kernelspec": {
   "display_name": "Python 3 (ipykernel)",
   "language": "python",
   "name": "python3"
  },
  "language_info": {
   "codemirror_mode": {
    "name": "ipython",
    "version": 3
   },
   "file_extension": ".py",
   "mimetype": "text/x-python",
   "name": "python",
   "nbconvert_exporter": "python",
   "pygments_lexer": "ipython3",
   "version": "3.7.10"
  }
 },
 "nbformat": 4,
 "nbformat_minor": 5
}
